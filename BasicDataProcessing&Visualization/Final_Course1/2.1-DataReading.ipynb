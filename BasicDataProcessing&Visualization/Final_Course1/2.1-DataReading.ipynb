{
 "cells": [
  {
   "cell_type": "code",
   "execution_count": 1,
   "metadata": {},
   "outputs": [],
   "source": [
    "import csv\n",
    "import json\n",
    "import pprint\n",
    "import gzip\n",
    "from collections import defaultdict"
   ]
  },
  {
   "cell_type": "markdown",
   "metadata": {},
   "source": [
    "## Rutas de los archivos  \n",
    "Defininmos la ruta de los archivos CSV y JSON "
   ]
  },
  {
   "cell_type": "code",
   "execution_count": 2,
   "metadata": {},
   "outputs": [],
   "source": [
    "pathCSV = \"C:/Users/Ian/Documents/PythonDataProducts4PredictiveAnalytics/BasicDataProcessing&Visualization/Final_Course1/datasets/airbnb_listings.csv\"\n",
    "pathJSON = \"C:/Users/Ian/Documents/PythonDataProducts4PredictiveAnalytics/BasicDataProcessing&Visualization/Final_Course1/datasets/example.json\"\n",
    "pathAmazon = \"C:/Users/Ian/Documents/PythonDataProducts4PredictiveAnalytics/BasicDataProcessing&Visualization/Final_Course1/datasets/amazon_reviews_us_Gift_Card_v1_00.tsv.gz\"\n",
    "pathYaleJSON = \"C:/Users/Ian/Documents/PythonDataProducts4PredictiveAnalytics/BasicDataProcessing&Visualization/Final_Course1/datasets/yelp_academic_dataset_review.json\""
   ]
  },
  {
   "cell_type": "markdown",
   "metadata": {},
   "source": [
    "### Abriremos el archivo CSV  \n",
    "Realizaremos esta acción con la biblioteca CSV. Mostramos la primer fila que corresponde a los encabezados"
   ]
  },
  {
   "cell_type": "code",
   "execution_count": 63,
   "metadata": {},
   "outputs": [
    {
     "data": {
      "text/plain": [
       "['index',\n",
       " 'room_id',\n",
       " 'host_id',\n",
       " 'room_type',\n",
       " 'address',\n",
       " 'reviews',\n",
       " 'overall_satisfaction',\n",
       " 'accommodates',\n",
       " 'bedrooms',\n",
       " 'bathrooms',\n",
       " 'price',\n",
       " 'last_modified',\n",
       " 'latitude',\n",
       " 'longitude',\n",
       " 'location',\n",
       " 'name',\n",
       " 'currency',\n",
       " 'rate_type']"
      ]
     },
     "execution_count": 63,
     "metadata": {},
     "output_type": "execute_result"
    }
   ],
   "source": [
    "fileCSV = open(pathCSV, encoding='UTF8')\n",
    "dataCSV = csv.reader(fileCSV)\n",
    "next(dataCSV)"
   ]
  },
  {
   "cell_type": "markdown",
   "metadata": {},
   "source": [
    "Si ejecutamos **next()** nuevamente, veremos que ahora nos devuelve la segunda fila, que ahora corresponde a los datos"
   ]
  },
  {
   "cell_type": "code",
   "execution_count": 64,
   "metadata": {},
   "outputs": [
    {
     "data": {
      "text/plain": [
       "['0',\n",
       " '2318',\n",
       " '2536',\n",
       " 'Entire home/apt',\n",
       " 'Seattle, WA, United States',\n",
       " '21',\n",
       " '5.0',\n",
       " '8',\n",
       " '4.0',\n",
       " '2.5',\n",
       " '250',\n",
       " '2018-12-20 03:46:14.698548',\n",
       " '47.610819',\n",
       " '-122.29081599999999',\n",
       " '0101000020E6100000D449B6BA9C925EC0416326512FCE4740',\n",
       " 'Casa Madrona - Urban Oasis, 1 block from the Park!',\n",
       " 'USD',\n",
       " 'nightly']"
      ]
     },
     "execution_count": 64,
     "metadata": {},
     "output_type": "execute_result"
    }
   ],
   "source": [
    "next(dataCSV)"
   ]
  },
  {
   "cell_type": "markdown",
   "metadata": {},
   "source": [
    "### Abriremos el archivo JSON \n",
    "Realizaremos esta acción con la biblioteca JSON. Mostramos solo el primero documento, el cual está representado como una cadena"
   ]
  },
  {
   "cell_type": "code",
   "execution_count": 65,
   "metadata": {},
   "outputs": [
    {
     "name": "stdout",
     "output_type": "stream",
     "text": [
      "['{\"_id\":\"5c1a010ae61b49b43c4b4864\",\"index\":0,\"age\":35,\"eyeColor\":\"green\",\"name\":\"Wiggins Holman\",\"address\":\"247 Thatford Avenue, Oneida,Puerto Rico, 7233\",\"friends\":[{\"id\":0,\"name\":\"Carmela Hampton\"},{\"id\":1,\"name\":\"Lynda Pittman\"},{\"id\":2,\"name\":\"Cleveland Noble\"}]}\\n']\n"
     ]
    }
   ],
   "source": [
    "fileJSON = open(pathJSON)\n",
    "lines = []\n",
    "lines.append(fileJSON.readline())\n",
    "print(lines)"
   ]
  },
  {
   "cell_type": "markdown",
   "metadata": {},
   "source": [
    "La cadena la convertimos en un diccionario"
   ]
  },
  {
   "cell_type": "code",
   "execution_count": 66,
   "metadata": {},
   "outputs": [
    {
     "name": "stdout",
     "output_type": "stream",
     "text": [
      "<class 'dict'>\n",
      "{'_id': '5c1a010ae61b49b43c4b4864', 'index': 0, 'age': 35, 'eyeColor': 'green', 'name': 'Wiggins Holman', 'address': '247 Thatford Avenue, Oneida,Puerto Rico, 7233', 'friends': [{'id': 0, 'name': 'Carmela Hampton'}, {'id': 1, 'name': 'Lynda Pittman'}, {'id': 2, 'name': 'Cleveland Noble'}]}\n"
     ]
    }
   ],
   "source": [
    "d = json.loads(lines[0])\n",
    "print(type(d))\n",
    "print(d)"
   ]
  },
  {
   "cell_type": "markdown",
   "metadata": {},
   "source": [
    "Ahora abrimos los primeros 7 diccionarios"
   ]
  },
  {
   "cell_type": "code",
   "execution_count": 67,
   "metadata": {},
   "outputs": [
    {
     "name": "stdout",
     "output_type": "stream",
     "text": [
      "[{'_id': '5c1a010ae61b49b43c4b4864',\n",
      "  'address': '247 Thatford Avenue, Oneida,Puerto Rico, 7233',\n",
      "  'age': 35,\n",
      "  'eyeColor': 'green',\n",
      "  'friends': [{'id': 0, 'name': 'Carmela Hampton'},\n",
      "              {'id': 1, 'name': 'Lynda Pittman'},\n",
      "              {'id': 2, 'name': 'Cleveland Noble'}],\n",
      "  'index': 0,\n",
      "  'name': 'Wiggins Holman'},\n",
      " {'_id': '5c1a010a9b07961bd0726cae',\n",
      "  'address': '461 Lawrence Avenue,Geyserville, Northern Mariana Islands,876',\n",
      "  'age': 37,\n",
      "  'eyeColor': 'blue',\n",
      "  'friends': [{'id': 0, 'name': 'Petra Middleton'},\n",
      "              {'id': 1, 'name': 'Cervantes Farmer'},\n",
      "              {'id': 2, 'name': 'Ursula Vinson'}],\n",
      "  'index': 1,\n",
      "  'name': 'Velasquez Stevenson'},\n",
      " {'_id': '5c1a010ac0a5b589b0a5da9d',\n",
      "  'address': '593 Wythe Avenue, Seymour, California, 5552',\n",
      "  'age': 22,\n",
      "  'eyeColor': 'brown',\n",
      "  'friends': [{'id': 0, 'name': 'Sharron Kerr'},\n",
      "              {'id': 1, 'name': 'Eugenia Gould'},\n",
      "              {'id': 2, 'name': 'Kathy Wilkerson'}],\n",
      "  'index': 2,\n",
      "  'name': 'GuadalupeBoyle'},\n",
      " {'_id': '5c1a010af38338f5494192a7',\n",
      "  'address': '758 Kiely Place,Winesburg,SouthDakota, 1289',\n",
      "  'age': 33,\n",
      "  'eyeColor': 'green',\n",
      "  'friends': [{'id': 0, 'name': 'Slater  Keller'},\n",
      "              {'id': 1, 'name': 'Morrow Rhodes'},\n",
      "              {'id': 2, 'name': 'Carly Johns'}],\n",
      "  'index': 3,\n",
      "  'name': 'MuellerTrujillo'},\n",
      " {'_id': '5c1a010a832c47b8ef7b86d0',\n",
      "  'address': '885 Tapscott Street, Rivereno, Minnesota, 9408',\n",
      "  'age': 29,\n",
      "  'eyeColor': 'blue',\n",
      "  'friends': [{'id': 0, 'name': 'Lakeisha Walter'},\n",
      "              {'id': 1, 'name': 'Sherman Rasmussen'},\n",
      "              {'id': 2, 'name': 'Tonya Ford'}],\n",
      "  'index': 4,\n",
      "  'name': 'HullMcclure'},\n",
      " {'_id': '5c1a010a0ff9c2029e0e6097',\n",
      "  'address': '344 Adler Place, Boling, Louisiana, 4897',\n",
      "  'age': 37,\n",
      "  'eyeColor': 'green',\n",
      "  'friends': [{'id': 0, 'name': 'Olive Durham'},\n",
      "              {'id': 1, 'name': 'Bridget Burgess'},\n",
      "              {'id': 2, 'name': 'Peck Garza'}],\n",
      "  'index': 5,\n",
      "  'name': 'LethaFernandez'},\n",
      " {'_id': '5c1a010ab77fee7d6cd09ca2',\n",
      "  'address': '928 Montague Terrace, Stagecoach, Maine, 9012',\n",
      "  'age': 21,\n",
      "  'eyeColor': 'green',\n",
      "  'friends': [{'id': 0, 'name': 'Horton Wilcox'},\n",
      "              {'id': 1, 'name': 'Adeline Holcomb'},\n",
      "              {'id': 2, 'name': 'Owens Wood'}],\n",
      "  'index': 6,\n",
      "  'name': 'Selma Quinn'}]\n"
     ]
    }
   ],
   "source": [
    "fileJSON_2 = open(pathJSON)\n",
    "dataset = []\n",
    "for i in range(7):\n",
    "    dataset.append(json.loads(fileJSON_2.readline()))\n",
    "    \n",
    "pprint.pprint(dataset)"
   ]
  },
  {
   "cell_type": "markdown",
   "metadata": {},
   "source": [
    "### Abrimos archivo comprimido con extensión **gz**  que contiene CSV\n",
    "Utilizamos la librería gzip para trabajar con archivos comprimidos sin tener que descomprimirlos.  \n",
    "La función gzip.open() recibe como primer argumento la ruta del archivo y en este caso, el segundo parámetro __rt__ significa read (r) y text (t), lo que conlleva a que se lee un archivo de texto"
   ]
  },
  {
   "cell_type": "code",
   "execution_count": 107,
   "metadata": {},
   "outputs": [
    {
     "name": "stdout",
     "output_type": "stream",
     "text": [
      "<_io.TextIOWrapper name='C:/Users/Ian/Documents/PythonDataProducts4PredictiveAnalytics/BasicDataProcessing&Visualization/Final_Course1/datasets/amazon_reviews_us_Gift_Card_v1_00.tsv.gz' encoding='utf8'>\n"
     ]
    }
   ],
   "source": [
    "fileAmazon = gzip.open(pathAmazon, 'rt', encoding=\"utf8\")\n",
    "print(fileAmazon)"
   ]
  },
  {
   "cell_type": "code",
   "execution_count": 108,
   "metadata": {},
   "outputs": [
    {
     "name": "stdout",
     "output_type": "stream",
     "text": [
      "['marketplace', 'customer_id', 'review_id', 'product_id', 'product_parent', 'product_title', 'product_category', 'star_rating', 'helpful_votes', 'total_votes', 'vine', 'verified_purchase', 'review_headline', 'review_body', 'review_date']\n"
     ]
    }
   ],
   "source": [
    "dataAmazon = csv.reader(fileAmazon, delimiter='\\t') \n",
    "header = next(dataAmazon)\n",
    "print(header)"
   ]
  },
  {
   "cell_type": "markdown",
   "metadata": {},
   "source": [
    "Ahora extraemos algunos campos de interés, eliminando algunos de ellos (los últimos tres campos) y verificamos el valor de uno de los campos restantes.\n",
    "Con esto leemos los datos y realizamos un filtrado para finalmente guardarlo en una lista, lo cual ahorra mucho tiempo de procesamiento"
   ]
  },
  {
   "cell_type": "code",
   "execution_count": 81,
   "metadata": {},
   "outputs": [
    {
     "name": "stdout",
     "output_type": "stream",
     "text": [
      "['US', '24371595', 'R27ZP1F1CD0C3Y', 'B004LLIL5A', '346014806', 'Amazon eGift Card - Celebrate', 'Gift Card', '5', '0', '0', 'N', 'Y']\n",
      "<class 'list'>\n"
     ]
    }
   ],
   "source": [
    "datasetAmazon = []\n",
    "for line in dataAmazon:\n",
    "    line = line[:-3]\n",
    "    if(line[-1] == 'Y'):\n",
    "        datasetAmazon.append(line)\n",
    "\n",
    "print(datasetAmazon[0])\n",
    "print(type(datasetAmazon[0]))"
   ]
  },
  {
   "cell_type": "markdown",
   "metadata": {},
   "source": [
    "1. Convertimos el archivo CSV en diccionario \n",
    "2. Realizamos un casteo de tipos que puedan beneficiarnos para una futura manipulación de estos."
   ]
  },
  {
   "cell_type": "code",
   "execution_count": 109,
   "metadata": {},
   "outputs": [],
   "source": [
    "datasetAmazon_2 = []\n",
    "for line in dataAmazon:\n",
    "    # Construimos el diccionario dict(zip(clave, valor))\n",
    "    d = dict(zip(header, line))\n",
    "    for field in ['helpful_votes', 'star_rating', 'total_votes']:\n",
    "        d[field] = int(d[field])\n",
    "    for field in ['verified_purchase', 'vine']:\n",
    "        if(d[field] == 'Y'):\n",
    "            d[field] = True\n",
    "        else:\n",
    "            d[field] = False\n",
    "    datasetAmazon_2.append(d)"
   ]
  },
  {
   "cell_type": "code",
   "execution_count": 110,
   "metadata": {},
   "outputs": [
    {
     "name": "stdout",
     "output_type": "stream",
     "text": [
      "{'customer_id': '23413911',\n",
      " 'helpful_votes': 1,\n",
      " 'marketplace': 'US',\n",
      " 'product_category': 'Gift Card',\n",
      " 'product_id': 'B004KNWWU4',\n",
      " 'product_parent': '326384774',\n",
      " 'product_title': 'Amazon Gift Card - Print - Happy Birthday (Birds)',\n",
      " 'review_body': 'Easy to print from email.  I love the variety of cards '\n",
      "                'available for print on demand.',\n",
      " 'review_date': '2015-08-31',\n",
      " 'review_headline': 'Always good',\n",
      " 'review_id': 'R1XZHS8M1GCGI7',\n",
      " 'star_rating': 5,\n",
      " 'total_votes': 1,\n",
      " 'verified_purchase': True,\n",
      " 'vine': False}\n",
      "<class 'dict'>\n"
     ]
    }
   ],
   "source": [
    "pprint.pprint(datasetCSV_2[11])\n",
    "print(type(datasetCSV_2[10]))"
   ]
  },
  {
   "cell_type": "markdown",
   "metadata": {},
   "source": [
    "### Abrimos archivo comprimido con extensión **gz**  que contiene un archivo JSON\n",
    "Utilizamos la librería gzip para trabajar con archivos comprimidos sin tener que descomprimirlos.  \n",
    "La función gzip.open() recibe como primer argumento la ruta del archivo y en este caso, el segundo parámetro __rt__ significa read (r) y text (t), lo que conlleva a que se lee un archivo de texto"
   ]
  },
  {
   "cell_type": "code",
   "execution_count": 101,
   "metadata": {},
   "outputs": [
    {
     "name": "stdout",
     "output_type": "stream",
     "text": [
      "<_io.TextIOWrapper name='C:/Users/Ian/Documents/PythonDataProducts4PredictiveAnalytics/BasicDataProcessing&Visualization/Final_Course1/datasets/yelp_academic_dataset_review.json' mode='r' encoding='utf8'>\n"
     ]
    }
   ],
   "source": [
    "fileYaleJSON = open(pathYaleJSON, 'r', encoding=\"utf8\")\n",
    "print(fileYaleJSON)"
   ]
  },
  {
   "cell_type": "markdown",
   "metadata": {},
   "source": [
    "Al ser un arhcivo muy grande, solo leeremos las primeras 50000 lineas"
   ]
  },
  {
   "cell_type": "code",
   "execution_count": 103,
   "metadata": {},
   "outputs": [
    {
     "name": "stdout",
     "output_type": "stream",
     "text": [
      "{\"review_id\":\"xQY8N_XvtGbearJ5X4QryQ\",\"user_id\":\"OwjRMXRC0KyPrIlcjaXeFQ\",\"business_id\":\"-MhfebM0QIsKt87iDN-FNw\",\"stars\":2.0,\"useful\":5,\"funny\":0,\"cool\":0,\"text\":\"As someone who has worked with many museums, I was eager to visit this gallery on my most recent trip to Las Vegas. When I saw they would be showing infamous eggs of the House of Faberge from the Virginia Museum of Fine Arts (VMFA), I knew I had to go!\\n\\nTucked away near the gelateria and the garden, the Gallery is pretty much hidden from view. It's what real estate agents would call \\\"cozy\\\" or \\\"charming\\\" - basically any euphemism for small.\\n\\nThat being said, you can still see wonderful art at a gallery of any size, so why the two *s you ask? Let me tell you:\\n\\n* pricing for this, while relatively inexpensive for a Las Vegas attraction, is completely over the top. For the space and the amount of art you can fit in there, it is a bit much.\\n* it's not kid friendly at all. Seriously, don't bring them.\\n* the security is not trained properly for the show. When the curating and design teams collaborate for exhibitions, there is a definite flow. That means visitors should view the art in a certain sequence, whether it be by historical period or cultural significance (this is how audio guides are usually developed). When I arrived in the gallery I could not tell where to start, and security was certainly not helpful. I was told to \\\"just look around\\\" and \\\"do whatever.\\\" \\n\\nAt such a *fine* institution, I find the lack of knowledge and respect for the art appalling.\",\"date\":\"2015-04-15 05:21:16\"}\n",
      "\n"
     ]
    }
   ],
   "source": [
    "lines = []\n",
    "for i in range(50000):\n",
    "    lines.append(fileYaleJSON.readline())\n",
    "    \n",
    "print(lines[0])"
   ]
  },
  {
   "cell_type": "markdown",
   "metadata": {},
   "source": [
    "Esto lo tenemos como una cadena de texto, por lo que esta linea la convertimos a diccionario para una manipulación más sencilla en Python"
   ]
  },
  {
   "cell_type": "code",
   "execution_count": 105,
   "metadata": {},
   "outputs": [
    {
     "data": {
      "text/plain": [
       "{'review_id': 'xQY8N_XvtGbearJ5X4QryQ',\n",
       " 'user_id': 'OwjRMXRC0KyPrIlcjaXeFQ',\n",
       " 'business_id': '-MhfebM0QIsKt87iDN-FNw',\n",
       " 'stars': 2.0,\n",
       " 'useful': 5,\n",
       " 'funny': 0,\n",
       " 'cool': 0,\n",
       " 'text': 'As someone who has worked with many museums, I was eager to visit this gallery on my most recent trip to Las Vegas. When I saw they would be showing infamous eggs of the House of Faberge from the Virginia Museum of Fine Arts (VMFA), I knew I had to go!\\n\\nTucked away near the gelateria and the garden, the Gallery is pretty much hidden from view. It\\'s what real estate agents would call \"cozy\" or \"charming\" - basically any euphemism for small.\\n\\nThat being said, you can still see wonderful art at a gallery of any size, so why the two *s you ask? Let me tell you:\\n\\n* pricing for this, while relatively inexpensive for a Las Vegas attraction, is completely over the top. For the space and the amount of art you can fit in there, it is a bit much.\\n* it\\'s not kid friendly at all. Seriously, don\\'t bring them.\\n* the security is not trained properly for the show. When the curating and design teams collaborate for exhibitions, there is a definite flow. That means visitors should view the art in a certain sequence, whether it be by historical period or cultural significance (this is how audio guides are usually developed). When I arrived in the gallery I could not tell where to start, and security was certainly not helpful. I was told to \"just look around\" and \"do whatever.\" \\n\\nAt such a *fine* institution, I find the lack of knowledge and respect for the art appalling.',\n",
       " 'date': '2015-04-15 05:21:16'}"
      ]
     },
     "execution_count": 105,
     "metadata": {},
     "output_type": "execute_result"
    }
   ],
   "source": [
    "d = json.loads(lines[0])\n",
    "d"
   ]
  },
  {
   "cell_type": "markdown",
   "metadata": {},
   "source": [
    "Podemos acceder a los valores de cada campo"
   ]
  },
  {
   "cell_type": "code",
   "execution_count": 106,
   "metadata": {},
   "outputs": [
    {
     "data": {
      "text/plain": [
       "2.0"
      ]
     },
     "execution_count": 106,
     "metadata": {},
     "output_type": "execute_result"
    }
   ],
   "source": [
    "d['stars']"
   ]
  },
  {
   "cell_type": "markdown",
   "metadata": {},
   "source": [
    "## Obtención de estadísticas de nuetro conjunto de datos en formato JSON  \n",
    "Para esto, configuramos nuestro CSV y convertimos a diccinario de Python"
   ]
  },
  {
   "cell_type": "code",
   "execution_count": 24,
   "metadata": {},
   "outputs": [],
   "source": [
    "fileAmazon = gzip.open(pathAmazon, 'rt', encoding=\"utf8\")\n",
    "dataAmazon = csv.reader(fileAmazon, delimiter='\\t') \n",
    "header = next(dataAmazon)"
   ]
  },
  {
   "cell_type": "code",
   "execution_count": 25,
   "metadata": {},
   "outputs": [
    {
     "name": "stdout",
     "output_type": "stream",
     "text": [
      "{'customer_id': '23413911',\n",
      " 'helpful_votes': 1,\n",
      " 'marketplace': 'US',\n",
      " 'product_category': 'Gift Card',\n",
      " 'product_id': 'B004KNWWU4',\n",
      " 'product_parent': '326384774',\n",
      " 'product_title': 'Amazon Gift Card - Print - Happy Birthday (Birds)',\n",
      " 'review_body': 'Easy to print from email.  I love the variety of cards '\n",
      "                'available for print on demand.',\n",
      " 'review_date': '2015-08-31',\n",
      " 'review_headline': 'Always good',\n",
      " 'review_id': 'R1XZHS8M1GCGI7',\n",
      " 'star_rating': 5,\n",
      " 'total_votes': 1,\n",
      " 'verified_purchase': True,\n",
      " 'vine': False}\n",
      "<class 'dict'>\n"
     ]
    }
   ],
   "source": [
    "datasetAmazon_2 = []\n",
    "for line in dataAmazon:\n",
    "    # Construimos el diccionario dict(zip(clave, valor))\n",
    "    d = dict(zip(header, line))\n",
    "    for field in ['helpful_votes', 'star_rating', 'total_votes']:\n",
    "        d[field] = int(d[field])\n",
    "    for field in ['verified_purchase', 'vine']:\n",
    "        if(d[field] == 'Y'):\n",
    "            d[field] = True\n",
    "        else:\n",
    "            d[field] = False\n",
    "    datasetAmazon_2.append(d)\n",
    "    \n",
    "pprint.pprint(datasetAmazon_2[11])\n",
    "print(type(datasetAmazon_2[10]))"
   ]
  },
  {
   "cell_type": "markdown",
   "metadata": {},
   "source": [
    "### Calculamos el promedio de _star_rating_\n",
    "Recorremos la lista donde estan todos los diccionarios y almacenamos todos los valores del campo  _'star_rating'"
   ]
  },
  {
   "cell_type": "code",
   "execution_count": 9,
   "metadata": {},
   "outputs": [
    {
     "name": "stdout",
     "output_type": "stream",
     "text": [
      "4.731333018677096\n"
     ]
    }
   ],
   "source": [
    "ratings = [d['star_rating'] for d in datasetAmazon_2]\n",
    "average_rating = sum(ratings) / len(ratings)\n",
    "print(average_rating)"
   ]
  },
  {
   "cell_type": "markdown",
   "metadata": {},
   "source": [
    "### Distribución de rating\n",
    "Ahora realizaremos una agrupación por numero de estrellas. Para esto realizamos un conteo de frecuencia del numero de estrellas"
   ]
  },
  {
   "cell_type": "code",
   "execution_count": 10,
   "metadata": {},
   "outputs": [
    {
     "name": "stdout",
     "output_type": "stream",
     "text": [
      "{1: 4766, 2: 1560, 3: 3147, 4: 9808, 5: 129029}\n"
     ]
    }
   ],
   "source": [
    "ratingCounts = {1: 0, 2: 0, 3: 0, 4: 0, 5: 0}\n",
    "for d in datasetAmazon_2:\n",
    "    ratingCounts[d['star_rating']] +=1 \n",
    "print(ratingCounts)"
   ]
  },
  {
   "cell_type": "markdown",
   "metadata": {},
   "source": [
    "Verificamos la distribución de compras verificadas y no verificadas"
   ]
  },
  {
   "cell_type": "code",
   "execution_count": 11,
   "metadata": {},
   "outputs": [
    {
     "name": "stdout",
     "output_type": "stream",
     "text": [
      "{True: 135289, False: 13021}\n"
     ]
    }
   ],
   "source": [
    "verifiedCounts = {True: 0, False: 0}\n",
    "for d in datasetAmazon_2:\n",
    "    verifiedCounts[d['verified_purchase']] +=1 \n",
    "print(verifiedCounts)"
   ]
  },
  {
   "cell_type": "markdown",
   "metadata": {},
   "source": [
    "Ahora realizaremos la misma acción utilizando __defaultdict__, el cual permite realizar un conteo de valores únicos en un campo del diccionario"
   ]
  },
  {
   "cell_type": "code",
   "execution_count": 12,
   "metadata": {},
   "outputs": [
    {
     "name": "stdout",
     "output_type": "stream",
     "text": [
      "defaultdict(<class 'int'>, {5: 129029, 1: 4766, 4: 9808, 2: 1560, 3: 3147})\n"
     ]
    }
   ],
   "source": [
    "ratingCounts_dd = defaultdict(int)\n",
    "for d in datasetAmazon_2:\n",
    "    ratingCounts_dd[d['star_rating']] += 1\n",
    "print(ratingCounts_dd)"
   ]
  },
  {
   "cell_type": "markdown",
   "metadata": {},
   "source": [
    "Ahora buscaremos los productos más populares utilizando __defaultdict()__, el cual almacenará contadores de cuantas veces ha visto el producto"
   ]
  },
  {
   "cell_type": "code",
   "execution_count": 31,
   "metadata": {},
   "outputs": [
    {
     "name": "stdout",
     "output_type": "stream",
     "text": [
      "(1605, 'B004LLIL5A')\n"
     ]
    }
   ],
   "source": [
    "productsCount = defaultdict(int)\n",
    "for d in datasetAmazon_2:\n",
    "    productsCount[d['product_id']] += 1\n",
    "\n",
    "# Ahora que tenemos el recuento, para un mejor manejo convertimos este diccionario en una lista de tuplas que contendran el id del \n",
    "# product y su frecuencia\n",
    "counts = [(productsCount[p], p) for p in productsCount]\n",
    "print(counts[0])"
   ]
  },
  {
   "cell_type": "markdown",
   "metadata": {},
   "source": [
    "Ordenamos los datos en base al número de apariciones"
   ]
  },
  {
   "cell_type": "code",
   "execution_count": 35,
   "metadata": {},
   "outputs": [
    {
     "name": "stdout",
     "output_type": "stream",
     "text": [
      "[(2038, 'B004KNWWO0'), (2173, 'B0066AZGD4'), (2630, 'BT00DDC7CE'), (2643, 'B004LLIKY2'), (3407, 'BT00DDC7BK'), (3440, 'BT00CTOUNS'), (4283, 'B00IX1I3G6'), (5034, 'BT00DDVMVQ'), (6037, 'B00A48G0D4'), (28705, 'B004LLIKVU')]\n"
     ]
    }
   ],
   "source": [
    "sort = sorted(counts, key=lambda tup: tup[0]) \n",
    "print(sort[-10:])"
   ]
  },
  {
   "cell_type": "markdown",
   "metadata": {},
   "source": [
    "Ahora obtendremos el rating promedio de cada producto. Por lo que tendremos una **estructura de datos** que está indexada por el id del producto y esta esta asociada con su lista de calificación"
   ]
  },
  {
   "cell_type": "code",
   "execution_count": 46,
   "metadata": {},
   "outputs": [],
   "source": [
    "rating_per_product = defaultdict(list)\n",
    "for d in datasetAmazon_2:\n",
    "    rating_per_product[d['product_id']].append(d['star_rating'])\n",
    "    "
   ]
  },
  {
   "cell_type": "code",
   "execution_count": 47,
   "metadata": {},
   "outputs": [],
   "source": [
    "avgRating_per_product = {}\n",
    "for p in rating_per_product:\n",
    "    avgRating_per_product[p] = sum(rating_per_product[p]) / len(rating_per_product[p])"
   ]
  },
  {
   "cell_type": "markdown",
   "metadata": {},
   "source": [
    "Obtenemos los productos con las mejores calificaciones considerando que recibio un número considerable de calificaciones (mayor a 70 calificaciones)"
   ]
  },
  {
   "cell_type": "code",
   "execution_count": 48,
   "metadata": {},
   "outputs": [
    {
     "name": "stdout",
     "output_type": "stream",
     "text": [
      "[(4.878504672897196, 'B004RCNH8Y'), (4.883333333333334, 'B0062ONAM8'), (4.8901098901098905, 'B004KNWWWM'), (4.891304347826087, 'B00BSXWOLG'), (4.895348837209302, 'B00HFG0L2E'), (4.898336414048059, 'B007V6ETXA'), (4.9021739130434785, 'B00PG40SDY'), (4.906666666666666, 'B004LLILC8'), (4.918918918918919, 'B004KNWX94'), (4.936842105263158, 'B004KNWX76')]\n"
     ]
    }
   ],
   "source": [
    "topRated = [(avgRating_per_product[p], p) for p in avgRating_per_product if len(rating_per_product[p]) > 70]\n",
    "sort_topRated = sorted(topRated, key=lambda tup: tup[0]) \n",
    "print(sort_topRated[-10:])"
   ]
  },
  {
   "cell_type": "markdown",
   "metadata": {},
   "source": [
    "## Obtención de estadísticas de nuetro conjunto de datos en formato JSON  \n",
    "Dejamos la configuración de nuestro archivo tal cúal\n",
    "\n",
    "### Preprocesamiento de los datos  \n",
    "Convertimos el TSV a diccionario de Python y convertimos algunos campos en tipos de datos nativos de Python"
   ]
  },
  {
   "cell_type": "code",
   "execution_count": 4,
   "metadata": {},
   "outputs": [],
   "source": [
    "fileAmazon = gzip.open(pathAmazon, 'rt', encoding=\"utf8\")\n",
    "datasetDict_Amazon = []\n",
    "# Leemos la cabecera, separamos los campos y eliminamos el caracter de final de linea\n",
    "header = fileAmazon.readline().strip().split('\\t')\n",
    "\n",
    "for line in fileAmazon:\n",
    "    line = line.split('\\t')\n",
    "    d = dict(zip(header, line))\n",
    "    d['star_rating'] =  int(d['star_rating'])\n",
    "    d['helpful_votes'] = int(d['helpful_votes'])\n",
    "    d['total_votes'] = int(d['total_votes'])\n",
    "    datasetDict_Amazon.append(d)"
   ]
  },
  {
   "cell_type": "markdown",
   "metadata": {},
   "source": [
    "Revisamos el primer elemento de la lista y su longitud "
   ]
  },
  {
   "cell_type": "code",
   "execution_count": 8,
   "metadata": {},
   "outputs": [
    {
     "name": "stdout",
     "output_type": "stream",
     "text": [
      "{'customer_id': '24371595',\n",
      " 'helpful_votes': 0,\n",
      " 'marketplace': 'US',\n",
      " 'product_category': 'Gift Card',\n",
      " 'product_id': 'B004LLIL5A',\n",
      " 'product_parent': '346014806',\n",
      " 'product_title': 'Amazon eGift Card - Celebrate',\n",
      " 'review_body': 'Great birthday gift for a young adult.',\n",
      " 'review_date': '2015-08-31\\n',\n",
      " 'review_headline': 'Five Stars',\n",
      " 'review_id': 'R27ZP1F1CD0C3Y',\n",
      " 'star_rating': 5,\n",
      " 'total_votes': 0,\n",
      " 'verified_purchase': 'Y',\n",
      " 'vine': 'N'}\n",
      "149086\n"
     ]
    }
   ],
   "source": [
    "pprint.pprint(datasetDict_Amazon[0])\n",
    "print(len(datasetDict_Amazon))"
   ]
  },
  {
   "cell_type": "markdown",
   "metadata": {},
   "source": [
    "Calcularemos el número de usuarios y elementos únicos en el conjunto de datos"
   ]
  },
  {
   "cell_type": "code",
   "execution_count": 11,
   "metadata": {},
   "outputs": [
    {
     "name": "stdout",
     "output_type": "stream",
     "text": [
      "Usuarios:  143181\n",
      "Artículos:  1780\n"
     ]
    }
   ],
   "source": [
    "users = set()\n",
    "items = set()\n",
    "\n",
    "for d in datasetDict_Amazon:\n",
    "    users.add(d['customer_id'])\n",
    "    items.add(d['product_id'])\n",
    "\n",
    "    \n",
    "print(\"Usuarios: \", len(users))\n",
    "print(\"Artículos: \", len(items))"
   ]
  },
  {
   "cell_type": "markdown",
   "metadata": {},
   "source": [
    "Puntuaciones medias de las compras verificadas contra las puntuaciones medias de las compras no verificadas "
   ]
  },
  {
   "cell_type": "code",
   "execution_count": 12,
   "metadata": {},
   "outputs": [
    {
     "name": "stdout",
     "output_type": "stream",
     "text": [
      "Puntuación media de compras verificadas:  4.7461078196439335\n",
      "Puntuación media de compras no verificadas:  4.577583563324134\n"
     ]
    }
   ],
   "source": [
    "avgVerified = 0\n",
    "nVerified = 0\n",
    "avgUnverified = 0\n",
    "nUnverified = 0\n",
    "\n",
    "for d in datasetDict_Amazon:\n",
    "    if d['verified_purchase'] == 'Y':\n",
    "        avgVerified += d['star_rating']\n",
    "        nVerified += 1\n",
    "    else:\n",
    "        avgUnverified += d['star_rating']\n",
    "        nUnverified += 1\n",
    "        \n",
    "print(\"Puntuación media de compras verificadas: \", avgVerified/nVerified)\n",
    "print(\"Puntuación media de compras no verificadas: \", avgUnverified/nUnverified)"
   ]
  },
  {
   "cell_type": "markdown",
   "metadata": {},
   "source": [
    "Podemos realizarlo de manera alterna, pero ahora guardamos las calificaciones en una lista"
   ]
  },
  {
   "cell_type": "code",
   "execution_count": 13,
   "metadata": {},
   "outputs": [
    {
     "name": "stdout",
     "output_type": "stream",
     "text": [
      "Puntuación media de compras verificadas:  4.7461078196439335\n",
      "Puntuación media de compras no verificadas:  4.577583563324134\n"
     ]
    }
   ],
   "source": [
    "verifiedRatings = [d['star_rating'] for d in datasetDict_Amazon if d['verified_purchase'] == 'Y'] \n",
    "unverifiedRatings = [d['star_rating'] for d in datasetDict_Amazon if d['verified_purchase'] == 'N'] \n",
    "\n",
    "print(\"Puntuación media de compras verificadas: \", sum(verifiedRatings)/len(verifiedRatings))\n",
    "print(\"Puntuación media de compras no verificadas: \", sum(unverifiedRatings)/len(unverifiedRatings))"
   ]
  },
  {
   "cell_type": "code",
   "execution_count": 20,
   "metadata": {},
   "outputs": [
    {
     "name": "stdout",
     "output_type": "stream",
     "text": [
      "{'star_rating': 1, 'answer_key': True, 'units_sold': 119}\n"
     ]
    }
   ],
   "source": [
    "header_Act = [\"star_rating\", \"answer_key\", \"units_sold\"]\n",
    "sr = [[1, True, 119],[4, True, 2003],[5, False, 5],[2,True, 456],[4,False,223]]\n",
    "#ak = [True, True, False, True, False]\n",
    "#us = [119,2003,5,456,223]\n",
    "\n",
    "\n",
    "dataset_ACT = []\n",
    "for line in sr:\n",
    "    # Construimos el diccionario dict(zip(clave, valor))\n",
    "    d = dict(zip(header_Act, line))\n",
    "    dataset_ACT.append(d)\n",
    "    \n",
    "print(dataset_ACT[0])"
   ]
  }
 ],
 "metadata": {
  "kernelspec": {
   "display_name": "Python 3",
   "language": "python",
   "name": "python3"
  },
  "language_info": {
   "codemirror_mode": {
    "name": "ipython",
    "version": 3
   },
   "file_extension": ".py",
   "mimetype": "text/x-python",
   "name": "python",
   "nbconvert_exporter": "python",
   "pygments_lexer": "ipython3",
   "version": "3.8.5"
  }
 },
 "nbformat": 4,
 "nbformat_minor": 4
}
