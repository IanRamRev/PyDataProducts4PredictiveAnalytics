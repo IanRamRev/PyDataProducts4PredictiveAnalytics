{
 "cells": [
  {
   "cell_type": "code",
   "execution_count": 2,
   "metadata": {},
   "outputs": [],
   "source": [
    "import csv\n",
    "import json\n",
    "import pprint\n",
    "import gzip\n",
    "from collections import defaultdict\n",
    "import string\n",
    "\n",
    "\n",
    "import time\n",
    "import calendar\n",
    "\n",
    "pathAmazon = \"C:/Users/Ian/Documents/PythonDataProducts4PredictiveAnalytics/BasicDataProcessing&Visualization/Final_Course1/datasets/amazon_reviews_us_Gift_Card_v1_00.tsv.gz\""
   ]
  },
  {
   "cell_type": "code",
   "execution_count": 4,
   "metadata": {},
   "outputs": [],
   "source": [
    "fileAmazon = gzip.open(pathAmazon, 'rt', encoding=\"utf8\")\n",
    "dataAmazon = csv.reader(fileAmazon, delimiter='\\t') \n",
    "header = next(dataAmazon)"
   ]
  },
  {
   "cell_type": "code",
   "execution_count": 5,
   "metadata": {},
   "outputs": [],
   "source": [
    "datasetAmazon = []\n",
    "for line in dataAmazon:\n",
    "    # Construimos el diccionario dict(zip(clave, valor))\n",
    "    d = dict(zip(header, line))\n",
    "    for field in ['helpful_votes', 'star_rating', 'total_votes']:\n",
    "        d[field] = int(d[field])\n",
    "    for field in ['verified_purchase', 'vine']:\n",
    "        if(d[field] == 'Y'):\n",
    "            d[field] = True\n",
    "        else:\n",
    "            d[field] = False\n",
    "    datasetAmazon.append(d)"
   ]
  },
  {
   "cell_type": "markdown",
   "metadata": {},
   "source": [
    "La estructura de nuestros datos se ve así:"
   ]
  },
  {
   "cell_type": "code",
   "execution_count": 6,
   "metadata": {},
   "outputs": [
    {
     "name": "stdout",
     "output_type": "stream",
     "text": [
      "Total de datos:  148310\n",
      "{'customer_id': '24371595',\n",
      " 'helpful_votes': 0,\n",
      " 'marketplace': 'US',\n",
      " 'product_category': 'Gift Card',\n",
      " 'product_id': 'B004LLIL5A',\n",
      " 'product_parent': '346014806',\n",
      " 'product_title': 'Amazon eGift Card - Celebrate',\n",
      " 'review_body': 'Great birthday gift for a young adult.',\n",
      " 'review_date': '2015-08-31',\n",
      " 'review_headline': 'Five Stars',\n",
      " 'review_id': 'R27ZP1F1CD0C3Y',\n",
      " 'star_rating': 5,\n",
      " 'total_votes': 0,\n",
      " 'verified_purchase': True,\n",
      " 'vine': False}\n"
     ]
    }
   ],
   "source": [
    "print(\"Total de datos: \", len(datasetAmazon))\n",
    "pprint.pprint(datasetAmazon[0])"
   ]
  },
  {
   "cell_type": "markdown",
   "metadata": {},
   "source": [
    "# Filtrado de datos  \n",
    "Se trabajara los datos en formato de diccionario para una mejor manipulación de los datos "
   ]
  },
  {
   "cell_type": "markdown",
   "metadata": {},
   "source": [
    "### Filtrado por fecha\n",
    "Para esto, vamos a convertir el campo review_date en integer, tomar solo el año y crear un nuevo campo llamado _yearInt_ para filtrar los datos más recientes.  \n",
    "**Para esto, devemos de realizar un preprocesamiento ya que algunos documentos no tienen ningún valor en ese campo**"
   ]
  },
  {
   "cell_type": "code",
   "execution_count": 7,
   "metadata": {},
   "outputs": [
    {
     "name": "stdout",
     "output_type": "stream",
     "text": [
      "148309\n"
     ]
    }
   ],
   "source": [
    "cleanDSA = [d for d in datasetAmazon if 'review_date' in d]\n",
    "print(len(cleanDSA))"
   ]
  },
  {
   "cell_type": "code",
   "execution_count": 10,
   "metadata": {},
   "outputs": [],
   "source": [
    "for d in cleanDSA:\n",
    "    d['yearInt'] = int(d['review_date'][:4])"
   ]
  },
  {
   "cell_type": "markdown",
   "metadata": {},
   "source": [
    "Limpio nuestro conjunto de datos, vamos a realizar el filtrado de opiniones que realizadas a partir del 2010"
   ]
  },
  {
   "cell_type": "code",
   "execution_count": 12,
   "metadata": {},
   "outputs": [
    {
     "name": "stdout",
     "output_type": "stream",
     "text": [
      "148095\n"
     ]
    }
   ],
   "source": [
    "cleanDSA = [d for d in cleanDSA if d['yearInt'] > 2009]\n",
    "print(len(cleanDSA))"
   ]
  },
  {
   "cell_type": "markdown",
   "metadata": {},
   "source": [
    "### Filtramos las opiniones con mayor relevancia.  \n",
    "Para esto consideramos dos parámetros:  \n",
    "* Tiene menos de tres votos de utilidad. Si tienen pocos votos, la escencia de la relevancia no es muy acertada\n",
    "* Su relación de utilidad es mayor que 0.5. Su radio de ayuda es mayor a 0.5"
   ]
  },
  {
   "cell_type": "code",
   "execution_count": 13,
   "metadata": {},
   "outputs": [
    {
     "name": "stdout",
     "output_type": "stream",
     "text": [
      "147801\n"
     ]
    }
   ],
   "source": [
    "cleanDSA = [d for d in cleanDSA if d['total_votes'] < 3  or d['helpful_votes']/d['total_votes'] >= 0.5]\n",
    "print(len(cleanDSA))"
   ]
  },
  {
   "cell_type": "markdown",
   "metadata": {},
   "source": [
    "### Filtramos por actividad de usuario.  \n",
    "Para esto, realizamos un conteo de las apariciones de los usuarios que más comentarios tienen"
   ]
  },
  {
   "cell_type": "code",
   "execution_count": 14,
   "metadata": {},
   "outputs": [],
   "source": [
    "nReviewsperUser = defaultdict(int)\n",
    "for d in cleanDSA:\n",
    "    nReviewsperUser[d['customer_id']] += 1"
   ]
  },
  {
   "cell_type": "markdown",
   "metadata": {},
   "source": [
    "### Filtramos a los usuarios que tengan como mínimo dos reseñas  \n",
    "Para esto, realizamos el conteo de número de apariciones en el conjunto de datos"
   ]
  },
  {
   "cell_type": "code",
   "execution_count": 17,
   "metadata": {},
   "outputs": [
    {
     "name": "stdout",
     "output_type": "stream",
     "text": [
      "11172\n"
     ]
    }
   ],
   "source": [
    "cleanDSA= [d for d in cleanDSA if nReviewsperUser[d['customer_id']] >= 2]\n",
    "print(len(cleanDSA))"
   ]
  },
  {
   "cell_type": "markdown",
   "metadata": {},
   "source": [
    "### Filtramos por longitud de la reseña\n",
    "Realizamos un filtro de reseñas que son muy cortas (10 palabras o menos) y para esto, separamos las palabras y realizamos un conteo"
   ]
  },
  {
   "cell_type": "code",
   "execution_count": 18,
   "metadata": {},
   "outputs": [
    {
     "name": "stdout",
     "output_type": "stream",
     "text": [
      "7033\n"
     ]
    }
   ],
   "source": [
    "cleanDSA = [d for d in cleanDSA if len(d['review_body'].split()) >= 10]\n",
    "print(len(cleanDSA))"
   ]
  },
  {
   "cell_type": "code",
   "execution_count": 21,
   "metadata": {},
   "outputs": [
    {
     "data": {
      "text/plain": [
       "'!\"#$%&\\'()*+,-./:;<=>?@[\\\\]^_`{|}~'"
      ]
     },
     "execution_count": 21,
     "metadata": {},
     "output_type": "execute_result"
    }
   ],
   "source": [
    "string.punctuation"
   ]
  },
  {
   "cell_type": "markdown",
   "metadata": {},
   "source": [
    "# Manejo de fechas  \n",
    "Tenemos una fecha de muestra legible para los humanos para trabajar con los métodos para la transformación de fechas."
   ]
  },
  {
   "cell_type": "markdown",
   "metadata": {},
   "source": [
    "### Trabajaremos con una fecha inicial en formato string"
   ]
  },
  {
   "cell_type": "code",
   "execution_count": 4,
   "metadata": {},
   "outputs": [],
   "source": [
    "timeString = \"2018-07-26 01:36:02\""
   ]
  },
  {
   "cell_type": "markdown",
   "metadata": {},
   "source": [
    "La función _time.strptime()_ recibe dos argumentos:  \n",
    "* El primero es la cadena donde se encuentra la fecha\n",
    "* El segundo argumento es una cadena con el formato de la fecha del string del primer parámetro  \n",
    "  \n",
    "Esto nos devuelve una estructura de tiempo donde identifica año, mes, día, hora, minuto y segundo así como el día de la semana y el dia del año.  \n",
    "**Esta función es ideal cuando queremos extraer características de los datos**"
   ]
  },
  {
   "cell_type": "code",
   "execution_count": 5,
   "metadata": {},
   "outputs": [
    {
     "data": {
      "text/plain": [
       "time.struct_time(tm_year=2018, tm_mon=7, tm_mday=26, tm_hour=1, tm_min=36, tm_sec=2, tm_wday=3, tm_yday=207, tm_isdst=-1)"
      ]
     },
     "execution_count": 5,
     "metadata": {},
     "output_type": "execute_result"
    }
   ],
   "source": [
    "timeStruct = time.strptime(timeString, \"%Y-%m-%d %H:%M:%S\")\n",
    "timeStruct"
   ]
  },
  {
   "cell_type": "code",
   "execution_count": 6,
   "metadata": {},
   "outputs": [
    {
     "name": "stdout",
     "output_type": "stream",
     "text": [
      "Help on built-in function strptime in module time:\n",
      "\n",
      "strptime(...)\n",
      "    strptime(string, format) -> struct_time\n",
      "    \n",
      "    Parse a string to a time tuple according to a format specification.\n",
      "    See the library reference manual for formatting codes (same as\n",
      "    strftime()).\n",
      "    \n",
      "    Commonly used format codes:\n",
      "    \n",
      "    %Y  Year with century as a decimal number.\n",
      "    %m  Month as a decimal number [01,12].\n",
      "    %d  Day of the month as a decimal number [01,31].\n",
      "    %H  Hour (24-hour clock) as a decimal number [00,23].\n",
      "    %M  Minute as a decimal number [00,59].\n",
      "    %S  Second as a decimal number [00,61].\n",
      "    %z  Time zone offset from UTC.\n",
      "    %a  Locale's abbreviated weekday name.\n",
      "    %A  Locale's full weekday name.\n",
      "    %b  Locale's abbreviated month name.\n",
      "    %B  Locale's full month name.\n",
      "    %c  Locale's appropriate date and time representation.\n",
      "    %I  Hour (12-hour clock) as a decimal number [01,12].\n",
      "    %p  Locale's equivalent of either AM or PM.\n",
      "    \n",
      "    Other codes may be available on your platform.  See documentation for\n",
      "    the C library strftime function.\n",
      "\n"
     ]
    }
   ],
   "source": [
    "help(time.strptime)"
   ]
  },
  {
   "cell_type": "markdown",
   "metadata": {},
   "source": [
    "### Trabajaremos ahora con la fecha como estructura de tiempo de Python  \n",
    "Las convertiremos a formato de número con las funciones _calendar.timegm(timeStruct)_ y _time.mktime(timeStrict)_ las cuales reciben como argumento una estructura de tiempo. Esto con el fin de poder manejar operaciones con las fechas"
   ]
  },
  {
   "cell_type": "markdown",
   "metadata": {},
   "source": [
    "_timgm()_ asume la estructura del tiempo con la hora UTC"
   ]
  },
  {
   "cell_type": "code",
   "execution_count": 17,
   "metadata": {},
   "outputs": [],
   "source": [
    "t1 = calendar.timegm(timeStruct)"
   ]
  },
  {
   "cell_type": "markdown",
   "metadata": {},
   "source": [
    "_mktime()_ asuma que la estructura en una hora local"
   ]
  },
  {
   "cell_type": "code",
   "execution_count": 18,
   "metadata": {},
   "outputs": [],
   "source": [
    "t2 = time.mktime(timeStruct)"
   ]
  },
  {
   "cell_type": "code",
   "execution_count": 19,
   "metadata": {},
   "outputs": [
    {
     "name": "stdout",
     "output_type": "stream",
     "text": [
      "1532568962\n",
      "1532586962.0\n"
     ]
    }
   ],
   "source": [
    "print(t1)\n",
    "print(t2)"
   ]
  },
  {
   "cell_type": "code",
   "execution_count": 20,
   "metadata": {},
   "outputs": [
    {
     "data": {
      "text/plain": [
       "1532568962"
      ]
     },
     "execution_count": 20,
     "metadata": {},
     "output_type": "execute_result"
    }
   ],
   "source": [
    "t1 + 60 * 60 * 24 * 5"
   ]
  },
  {
   "cell_type": "markdown",
   "metadata": {},
   "source": [
    "### Conversión de tipo numérico a estructura de fecha y estructura de fecha a string"
   ]
  },
  {
   "cell_type": "markdown",
   "metadata": {},
   "source": [
    "Tomamos el número y convertimos"
   ]
  },
  {
   "cell_type": "code",
   "execution_count": 21,
   "metadata": {},
   "outputs": [
    {
     "data": {
      "text/plain": [
       "time.struct_time(tm_year=2018, tm_mon=7, tm_mday=31, tm_hour=1, tm_min=36, tm_sec=2, tm_wday=1, tm_yday=212, tm_isdst=0)"
      ]
     },
     "execution_count": 21,
     "metadata": {},
     "output_type": "execute_result"
    }
   ],
   "source": [
    "time.gmtime(t1 + 60 * 60 * 24 * 5)"
   ]
  },
  {
   "cell_type": "markdown",
   "metadata": {},
   "source": [
    "Convertimos la estructura de tiempo en cadena"
   ]
  },
  {
   "cell_type": "code",
   "execution_count": 22,
   "metadata": {},
   "outputs": [
    {
     "data": {
      "text/plain": [
       "'2018-07-31 01:36:02'"
      ]
     },
     "execution_count": 22,
     "metadata": {},
     "output_type": "execute_result"
    }
   ],
   "source": [
    "time.strftime(\"%Y-%m-%d %H:%M:%S\", time.gmtime(t1 + 60 * 60 * 24 * 5))"
   ]
  },
  {
   "cell_type": "markdown",
   "metadata": {},
   "source": [
    "# Living code"
   ]
  },
  {
   "cell_type": "code",
   "execution_count": 31,
   "metadata": {},
   "outputs": [],
   "source": [
    "pathYale = \"C:/Users/Ian/Documents/PythonDataProducts4PredictiveAnalytics/BasicDataProcessing&Visualization/Final_Course1/datasets/yelp_academic_dataset_review.json\"\n",
    "\n",
    "fileYale = open(pathYale, 'r', encoding='UTF8')"
   ]
  },
  {
   "cell_type": "code",
   "execution_count": 32,
   "metadata": {},
   "outputs": [
    {
     "name": "stdout",
     "output_type": "stream",
     "text": [
      "{'business_id': '-MhfebM0QIsKt87iDN-FNw',\n",
      " 'cool': 0,\n",
      " 'date': '2015-04-15 05:21:16',\n",
      " 'funny': 0,\n",
      " 'review_id': 'xQY8N_XvtGbearJ5X4QryQ',\n",
      " 'stars': 2.0,\n",
      " 'text': 'As someone who has worked with many museums, I was eager to visit '\n",
      "         'this gallery on my most recent trip to Las Vegas. When I saw they '\n",
      "         'would be showing infamous eggs of the House of Faberge from the '\n",
      "         'Virginia Museum of Fine Arts (VMFA), I knew I had to go!\\n'\n",
      "         '\\n'\n",
      "         'Tucked away near the gelateria and the garden, the Gallery is pretty '\n",
      "         \"much hidden from view. It's what real estate agents would call \"\n",
      "         '\"cozy\" or \"charming\" - basically any euphemism for small.\\n'\n",
      "         '\\n'\n",
      "         'That being said, you can still see wonderful art at a gallery of any '\n",
      "         'size, so why the two *s you ask? Let me tell you:\\n'\n",
      "         '\\n'\n",
      "         '* pricing for this, while relatively inexpensive for a Las Vegas '\n",
      "         'attraction, is completely over the top. For the space and the amount '\n",
      "         'of art you can fit in there, it is a bit much.\\n'\n",
      "         \"* it's not kid friendly at all. Seriously, don't bring them.\\n\"\n",
      "         '* the security is not trained properly for the show. When the '\n",
      "         'curating and design teams collaborate for exhibitions, there is a '\n",
      "         'definite flow. That means visitors should view the art in a certain '\n",
      "         'sequence, whether it be by historical period or cultural '\n",
      "         'significance (this is how audio guides are usually developed). When '\n",
      "         'I arrived in the gallery I could not tell where to start, and '\n",
      "         'security was certainly not helpful. I was told to \"just look around\" '\n",
      "         'and \"do whatever.\" \\n'\n",
      "         '\\n'\n",
      "         'At such a *fine* institution, I find the lack of knowledge and '\n",
      "         'respect for the art appalling.',\n",
      " 'useful': 5,\n",
      " 'user_id': 'OwjRMXRC0KyPrIlcjaXeFQ'}\n"
     ]
    }
   ],
   "source": [
    "datasetYale = []\n",
    "for i in range(50000):\n",
    "    datasetYale.append(json.loads(fileYale.readline()))\n",
    "    \n",
    "pprint.pprint(datasetYale[0])"
   ]
  },
  {
   "cell_type": "code",
   "execution_count": 26,
   "metadata": {},
   "outputs": [
    {
     "name": "stdout",
     "output_type": "stream",
     "text": [
      "2015-04-15 05:21:16\n",
      "<class 'str'>\n"
     ]
    }
   ],
   "source": [
    "timeString = datasetYale[0]['date']\n",
    "print(timeString)\n",
    "print(type(timeString))"
   ]
  },
  {
   "cell_type": "code",
   "execution_count": 41,
   "metadata": {},
   "outputs": [
    {
     "data": {
      "text/plain": [
       "time.struct_time(tm_year=2015, tm_mon=4, tm_mday=15, tm_hour=5, tm_min=21, tm_sec=16, tm_wday=2, tm_yday=105, tm_isdst=-1)"
      ]
     },
     "execution_count": 41,
     "metadata": {},
     "output_type": "execute_result"
    }
   ],
   "source": [
    "timeStruct = time.strptime(timeString, \"%Y-%m-%d %H:%M:%S\")\n",
    "timeStruct"
   ]
  },
  {
   "cell_type": "code",
   "execution_count": 42,
   "metadata": {},
   "outputs": [
    {
     "data": {
      "text/plain": [
       "time.struct_time(tm_year=2019, tm_mon=5, tm_mday=28, tm_hour=21, tm_min=36, tm_sec=18, tm_wday=1, tm_yday=148, tm_isdst=-1)"
      ]
     },
     "execution_count": 42,
     "metadata": {},
     "output_type": "execute_result"
    }
   ],
   "source": [
    "time.strptime(\"21:36:18, 28/05/2019\", \"%H:%M:%S, %d/%m/%Y\")"
   ]
  },
  {
   "cell_type": "code",
   "execution_count": 43,
   "metadata": {},
   "outputs": [
    {
     "name": "stdout",
     "output_type": "stream",
     "text": [
      "1429093276.0\n",
      "1457334948.0\n"
     ]
    }
   ],
   "source": [
    "timeInt = time.mktime(timeStruct)\n",
    "print(timeInt)\n",
    "timeInt2 = time.mktime(time.strptime(datasetYale[99]['date'], \"%Y-%m-%d %H:%M:%S\"))\n",
    "print(timeInt2)"
   ]
  },
  {
   "cell_type": "code",
   "execution_count": 44,
   "metadata": {},
   "outputs": [
    {
     "name": "stdout",
     "output_type": "stream",
     "text": [
      "28241672.0\n"
     ]
    }
   ],
   "source": [
    "timeDiff = timeInt2 - timeInt\n",
    "print(timeDiff)"
   ]
  },
  {
   "cell_type": "code",
   "execution_count": 45,
   "metadata": {},
   "outputs": [
    {
     "data": {
      "text/plain": [
       "470694.5333333333"
      ]
     },
     "execution_count": 45,
     "metadata": {},
     "output_type": "execute_result"
    }
   ],
   "source": [
    "timeDiff / 60"
   ]
  },
  {
   "cell_type": "code",
   "execution_count": 46,
   "metadata": {},
   "outputs": [
    {
     "data": {
      "text/plain": [
       "7844.908888888889"
      ]
     },
     "execution_count": 46,
     "metadata": {},
     "output_type": "execute_result"
    }
   ],
   "source": [
    "timeDiff /(60*60)"
   ]
  },
  {
   "cell_type": "code",
   "execution_count": 47,
   "metadata": {},
   "outputs": [
    {
     "data": {
      "text/plain": [
       "326.8712037037037"
      ]
     },
     "execution_count": 47,
     "metadata": {},
     "output_type": "execute_result"
    }
   ],
   "source": [
    "timeDiff /(60*60* 24)"
   ]
  },
  {
   "cell_type": "code",
   "execution_count": null,
   "metadata": {},
   "outputs": [],
   "source": []
  }
 ],
 "metadata": {
  "kernelspec": {
   "display_name": "Python 3",
   "language": "python",
   "name": "python3"
  },
  "language_info": {
   "codemirror_mode": {
    "name": "ipython",
    "version": 3
   },
   "file_extension": ".py",
   "mimetype": "text/x-python",
   "name": "python",
   "nbconvert_exporter": "python",
   "pygments_lexer": "ipython3",
   "version": "3.8.5"
  }
 },
 "nbformat": 4,
 "nbformat_minor": 4
}
