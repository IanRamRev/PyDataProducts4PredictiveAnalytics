{
 "cells": [
  {
   "cell_type": "code",
   "execution_count": 20,
   "metadata": {},
   "outputs": [],
   "source": [
    "import csv\n",
    "import json\n",
    "import pprint\n",
    "import gzip\n",
    "from collections import defaultdict\n",
    "import string\n",
    "\n",
    "pathAmazon = \"C:/Users/Ian/Documents/PythonDataProducts4PredictiveAnalytics/BasicDataProcessing&Visualization/Final_Course1/datasets/amazon_reviews_us_Gift_Card_v1_00.tsv.gz\""
   ]
  },
  {
   "cell_type": "code",
   "execution_count": 4,
   "metadata": {},
   "outputs": [],
   "source": [
    "fileAmazon = gzip.open(pathAmazon, 'rt', encoding=\"utf8\")\n",
    "dataAmazon = csv.reader(fileAmazon, delimiter='\\t') \n",
    "header = next(dataAmazon)"
   ]
  },
  {
   "cell_type": "code",
   "execution_count": 5,
   "metadata": {},
   "outputs": [],
   "source": [
    "datasetAmazon = []\n",
    "for line in dataAmazon:\n",
    "    # Construimos el diccionario dict(zip(clave, valor))\n",
    "    d = dict(zip(header, line))\n",
    "    for field in ['helpful_votes', 'star_rating', 'total_votes']:\n",
    "        d[field] = int(d[field])\n",
    "    for field in ['verified_purchase', 'vine']:\n",
    "        if(d[field] == 'Y'):\n",
    "            d[field] = True\n",
    "        else:\n",
    "            d[field] = False\n",
    "    datasetAmazon.append(d)"
   ]
  },
  {
   "cell_type": "markdown",
   "metadata": {},
   "source": [
    "La estructura de nuestros datos se ve así:"
   ]
  },
  {
   "cell_type": "code",
   "execution_count": 6,
   "metadata": {},
   "outputs": [
    {
     "name": "stdout",
     "output_type": "stream",
     "text": [
      "Total de datos:  148310\n",
      "{'customer_id': '24371595',\n",
      " 'helpful_votes': 0,\n",
      " 'marketplace': 'US',\n",
      " 'product_category': 'Gift Card',\n",
      " 'product_id': 'B004LLIL5A',\n",
      " 'product_parent': '346014806',\n",
      " 'product_title': 'Amazon eGift Card - Celebrate',\n",
      " 'review_body': 'Great birthday gift for a young adult.',\n",
      " 'review_date': '2015-08-31',\n",
      " 'review_headline': 'Five Stars',\n",
      " 'review_id': 'R27ZP1F1CD0C3Y',\n",
      " 'star_rating': 5,\n",
      " 'total_votes': 0,\n",
      " 'verified_purchase': True,\n",
      " 'vine': False}\n"
     ]
    }
   ],
   "source": [
    "print(\"Total de datos: \", len(datasetAmazon))\n",
    "pprint.pprint(datasetAmazon[0])"
   ]
  },
  {
   "cell_type": "markdown",
   "metadata": {},
   "source": [
    "# Filtrado de datos  \n",
    "Se trabajara los datos en formato de diccionario para una mejor manipulación de los datos "
   ]
  },
  {
   "cell_type": "markdown",
   "metadata": {},
   "source": [
    "### Filtrado por fecha\n",
    "Para esto, vamos a convertir el campo review_date en integer, tomar solo el año y crear un nuevo campo llamado _yearInt_ para filtrar los datos más recientes.  \n",
    "**Para esto, devemos de realizar un preprocesamiento ya que algunos documentos no tienen ningún valor en ese campo**"
   ]
  },
  {
   "cell_type": "code",
   "execution_count": 7,
   "metadata": {},
   "outputs": [
    {
     "name": "stdout",
     "output_type": "stream",
     "text": [
      "148309\n"
     ]
    }
   ],
   "source": [
    "cleanDSA = [d for d in datasetAmazon if 'review_date' in d]\n",
    "print(len(cleanDSA))"
   ]
  },
  {
   "cell_type": "code",
   "execution_count": 10,
   "metadata": {},
   "outputs": [],
   "source": [
    "for d in cleanDSA:\n",
    "    d['yearInt'] = int(d['review_date'][:4])"
   ]
  },
  {
   "cell_type": "markdown",
   "metadata": {},
   "source": [
    "Limpio nuestro conjunto de datos, vamos a realizar el filtrado de opiniones que realizadas a partir del 2010"
   ]
  },
  {
   "cell_type": "code",
   "execution_count": 12,
   "metadata": {},
   "outputs": [
    {
     "name": "stdout",
     "output_type": "stream",
     "text": [
      "148095\n"
     ]
    }
   ],
   "source": [
    "cleanDSA = [d for d in cleanDSA if d['yearInt'] > 2009]\n",
    "print(len(cleanDSA))"
   ]
  },
  {
   "cell_type": "markdown",
   "metadata": {},
   "source": [
    "### Filtramos las opiniones con mayor relevancia.  \n",
    "Para esto consideramos dos parámetros:  \n",
    "* Tiene menos de tres votos de utilidad. Si tienen pocos votos, la escencia de la relevancia no es muy acertada\n",
    "* Su relación de utilidad es mayor que 0.5. Su radio de ayuda es mayor a 0.5"
   ]
  },
  {
   "cell_type": "code",
   "execution_count": 13,
   "metadata": {},
   "outputs": [
    {
     "name": "stdout",
     "output_type": "stream",
     "text": [
      "147801\n"
     ]
    }
   ],
   "source": [
    "cleanDSA = [d for d in cleanDSA if d['total_votes'] < 3  or d['helpful_votes']/d['total_votes'] >= 0.5]\n",
    "print(len(cleanDSA))"
   ]
  },
  {
   "cell_type": "markdown",
   "metadata": {},
   "source": [
    "### Filtramos por actividad de usuario.  \n",
    "Para esto, realizamos un conteo de las apariciones de los usuarios que más comentarios tienen"
   ]
  },
  {
   "cell_type": "code",
   "execution_count": 14,
   "metadata": {},
   "outputs": [],
   "source": [
    "nReviewsperUser = defaultdict(int)\n",
    "for d in cleanDSA:\n",
    "    nReviewsperUser[d['customer_id']] += 1"
   ]
  },
  {
   "cell_type": "markdown",
   "metadata": {},
   "source": [
    "### Filtramos a los usuarios que tengan como mínimo dos reseñas  \n",
    "Para esto, realizamos el conteo de número de apariciones en el conjunto de datos"
   ]
  },
  {
   "cell_type": "code",
   "execution_count": 17,
   "metadata": {},
   "outputs": [
    {
     "name": "stdout",
     "output_type": "stream",
     "text": [
      "11172\n"
     ]
    }
   ],
   "source": [
    "cleanDSA= [d for d in cleanDSA if nReviewsperUser[d['customer_id']] >= 2]\n",
    "print(len(cleanDSA))"
   ]
  },
  {
   "cell_type": "markdown",
   "metadata": {},
   "source": [
    "### Filtramos por longitud de la reseña\n",
    "Realizamos un filtro de reseñas que son muy cortas (10 palabras o menos) y para esto, separamos las palabras y realizamos un conteo"
   ]
  },
  {
   "cell_type": "code",
   "execution_count": 18,
   "metadata": {},
   "outputs": [
    {
     "name": "stdout",
     "output_type": "stream",
     "text": [
      "7033\n"
     ]
    }
   ],
   "source": [
    "cleanDSA = [d for d in cleanDSA if len(d['review_body'].split()) >= 10]\n",
    "print(len(cleanDSA))"
   ]
  },
  {
   "cell_type": "code",
   "execution_count": 21,
   "metadata": {},
   "outputs": [
    {
     "data": {
      "text/plain": [
       "'!\"#$%&\\'()*+,-./:;<=>?@[\\\\]^_`{|}~'"
      ]
     },
     "execution_count": 21,
     "metadata": {},
     "output_type": "execute_result"
    }
   ],
   "source": [
    "string.punctuation"
   ]
  },
  {
   "cell_type": "code",
   "execution_count": null,
   "metadata": {},
   "outputs": [],
   "source": []
  },
  {
   "cell_type": "code",
   "execution_count": null,
   "metadata": {},
   "outputs": [],
   "source": []
  }
 ],
 "metadata": {
  "kernelspec": {
   "display_name": "Python 3",
   "language": "python",
   "name": "python3"
  },
  "language_info": {
   "codemirror_mode": {
    "name": "ipython",
    "version": 3
   },
   "file_extension": ".py",
   "mimetype": "text/x-python",
   "name": "python",
   "nbconvert_exporter": "python",
   "pygments_lexer": "ipython3",
   "version": "3.8.5"
  }
 },
 "nbformat": 4,
 "nbformat_minor": 4
}
