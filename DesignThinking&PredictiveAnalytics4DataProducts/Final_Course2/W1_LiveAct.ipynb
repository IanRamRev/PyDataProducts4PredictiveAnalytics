{
 "cells": [
  {
   "cell_type": "markdown",
   "metadata": {},
   "source": [
    "# Regresión lineal  \n",
    "\n",
    "1. Se utilizarán las librerías necesarias para la manipulación de los datos\n",
    "2. Se abrira el archivo donde se encuentran alojados los datos y se realizará una limpieza\n",
    "3. Se trabajará con los datos  \n",
    "\n",
    "Los pasos 1 y 2 se realizan para la regresión lineal simple y la autoregresión"
   ]
  },
  {
   "cell_type": "code",
   "execution_count": 1,
   "metadata": {},
   "outputs": [],
   "source": [
    "import csv\n",
    "import numpy"
   ]
  },
  {
   "cell_type": "code",
   "execution_count": 2,
   "metadata": {},
   "outputs": [],
   "source": [
    "path_pm25 = 'C:/Users/Ian/Documents/PythonDataProducts4PredictiveAnalytics/DesignThinking&PredictiveAnalytics4DataProducts/Final_Course2/datasets/PRSA_data_2010.1.1-2014.12.31.csv'\n",
    "file = open(path_pm25, 'r')"
   ]
  },
  {
   "cell_type": "markdown",
   "metadata": {},
   "source": [
    "Encabezado de los datos así como los índices de los datos que son de nuestro interés"
   ]
  },
  {
   "cell_type": "code",
   "execution_count": 22,
   "metadata": {},
   "outputs": [
    {
     "name": "stdout",
     "output_type": "stream",
     "text": [
      "['No', 'year', 'month', 'day', 'hour', 'pm2.5', 'DEWP', 'TEMP', 'PRES', 'cbwd', 'Iws', 'Is', 'Ir']\n",
      "Índice del dato pm2.5:  5\n",
      "Índice del dato de la temperatura:  7\n"
     ]
    }
   ],
   "source": [
    "dataset = []\n",
    "header = file.readline().strip().split(',')\n",
    "for line in file:\n",
    "    line = line.split(',')\n",
    "    dataset.append(line)\n",
    "    \n",
    "print(header)\n",
    "\n",
    "print(\"Índice del dato pm2.5: \", header.index('pm2.5'))\n",
    "print(\"Índice del dato de la temperatura: \", header.index('TEMP'))"
   ]
  },
  {
   "cell_type": "markdown",
   "metadata": {},
   "source": [
    "Limpieza de los datos"
   ]
  },
  {
   "cell_type": "code",
   "execution_count": 23,
   "metadata": {},
   "outputs": [],
   "source": [
    "dataset = [d for d in dataset if d[5] != 'NA']"
   ]
  },
  {
   "cell_type": "markdown",
   "metadata": {},
   "source": [
    "## Regresión lineal simple\n",
    "\n",
    "Utilizamos una característica unicamente, la **temperatura**  "
   ]
  },
  {
   "cell_type": "markdown",
   "metadata": {},
   "source": [
    "Construcción de la **matriz X de características** así como el vector **y**"
   ]
  },
  {
   "cell_type": "code",
   "execution_count": 6,
   "metadata": {},
   "outputs": [],
   "source": [
    "def getFeature(datnum):\n",
    "    # El 1 corresponde a la ordenada al origen\n",
    "    feat = [1, float(datnum[7])]\n",
    "    return feat\n",
    "\n",
    "X = [getFeature(d) for d in dataset]\n",
    "y = [float(d[5]) for d in dataset]"
   ]
  },
  {
   "cell_type": "markdown",
   "metadata": {},
   "source": [
    "Ejemplo de los datos"
   ]
  },
  {
   "cell_type": "code",
   "execution_count": 9,
   "metadata": {},
   "outputs": [
    {
     "name": "stdout",
     "output_type": "stream",
     "text": [
      "Temperaturas:  [129.0, 148.0, 159.0, 181.0, 138.0, 109.0, 105.0, 124.0, 120.0, 132.0]\n",
      "Característica (pm2.5):  [[1, -4.0], [1, -4.0], [1, -5.0], [1, -5.0], [1, -5.0], [1, -6.0], [1, -6.0], [1, -5.0], [1, -6.0], [1, -5.0]]\n"
     ]
    }
   ],
   "source": [
    "print(\"Temperaturas: \", y[:10])\n",
    "print(\"Característica (pm2.5): \", X[:10])"
   ]
  },
  {
   "cell_type": "markdown",
   "metadata": {},
   "source": [
    "Recordemos que la expresión queda de la siguiente manera  \n",
    "$$pm2.5 = \\theta_0 + \\theta_1 * temp$$"
   ]
  },
  {
   "cell_type": "code",
   "execution_count": 10,
   "metadata": {},
   "outputs": [
    {
     "name": "stderr",
     "output_type": "stream",
     "text": [
      "<ipython-input-10-1e07fe70644f>:1: FutureWarning: `rcond` parameter will change to the default of machine precision times ``max(M, N)`` where M and N are the input matrix dimensions.\n",
      "To use the future default and silence this warning we advise to pass `rcond=None`, to keep using the old, explicitly pass `rcond=-1`.\n",
      "  theta, residuals, rank, s = numpy.linalg.lstsq(X,y)\n"
     ]
    },
    {
     "name": "stdout",
     "output_type": "stream",
     "text": [
      "[107.10183392  -0.68447989]\n"
     ]
    }
   ],
   "source": [
    "theta, residuals, rank, s = numpy.linalg.lstsq(X,y)\n",
    "print(theta)"
   ]
  },
  {
   "cell_type": "markdown",
   "metadata": {},
   "source": [
    "Por lo tanto, la línea de regresión resulta ser la siguiente  \n",
    "$$pm2.5 = 107.10183392 - 0.68447989 * temp$$"
   ]
  },
  {
   "cell_type": "markdown",
   "metadata": {},
   "source": [
    "Realizamos las operaciones de forma manual utilizando la expresión  \n",
    "$$ (X^TX)^{-1} X^Ty$$"
   ]
  },
  {
   "cell_type": "code",
   "execution_count": 11,
   "metadata": {},
   "outputs": [
    {
     "data": {
      "text/plain": [
       "matrix([[107.10183392],\n",
       "        [ -0.68447989]])"
      ]
     },
     "execution_count": 11,
     "metadata": {},
     "output_type": "execute_result"
    }
   ],
   "source": [
    "X_matrix = numpy.matrix(X)\n",
    "y_matrix = numpy.matrix(y)\n",
    "numpy.linalg.inv(X_matrix.T * X_matrix) * X_matrix.T * y_matrix.T"
   ]
  },
  {
   "cell_type": "markdown",
   "metadata": {},
   "source": [
    "### Regresión lineal con muchas características\n",
    "\n",
    "Ahora utilizamos la **Temperatura, Presión y Velocidad del viento**"
   ]
  },
  {
   "cell_type": "code",
   "execution_count": 17,
   "metadata": {},
   "outputs": [],
   "source": [
    "def getMultipleFeatures(datnum):\n",
    "    feat = [1, float(datnum[7]), float(datnum[8]), float(datnum[10])]\n",
    "    return feat\n",
    "\n",
    "\n",
    "X = [getMultipleFeatures(d) for d in dataset]\n",
    "y = [float(d[5]) for d in dataset]"
   ]
  },
  {
   "cell_type": "code",
   "execution_count": 18,
   "metadata": {},
   "outputs": [
    {
     "name": "stdout",
     "output_type": "stream",
     "text": [
      "Temperaturas:  [129.0, 148.0, 159.0, 181.0, 138.0, 109.0, 105.0, 124.0, 120.0, 132.0]\n",
      "Característica (pm2.5):  [[1, -4.0, 1020.0, 1.79], [1, -4.0, 1020.0, 2.68], [1, -5.0, 1021.0, 3.57], [1, -5.0, 1022.0, 5.36], [1, -5.0, 1022.0, 6.25], [1, -6.0, 1022.0, 7.14], [1, -6.0, 1023.0, 8.93], [1, -5.0, 1024.0, 10.72], [1, -6.0, 1024.0, 12.51], [1, -5.0, 1025.0, 14.3]]\n"
     ]
    }
   ],
   "source": [
    "print(\"Temperaturas: \", y[:10])\n",
    "print(\"Característica (pm2.5): \", X[:10])"
   ]
  },
  {
   "cell_type": "markdown",
   "metadata": {},
   "source": [
    "Recordemos que la expresión queda de la siguiente manera  \n",
    "$$pm2.5 = \\theta_0 + \\theta_1 * temp + \\theta_2 * press + \\theta_3 * windSpeed$$"
   ]
  },
  {
   "cell_type": "code",
   "execution_count": 19,
   "metadata": {},
   "outputs": [
    {
     "name": "stdout",
     "output_type": "stream",
     "text": [
      "[ 3.26373064e+03 -3.10933772e+00 -3.06517728e+00 -4.60017221e-01]\n"
     ]
    },
    {
     "name": "stderr",
     "output_type": "stream",
     "text": [
      "<ipython-input-19-1e07fe70644f>:1: FutureWarning: `rcond` parameter will change to the default of machine precision times ``max(M, N)`` where M and N are the input matrix dimensions.\n",
      "To use the future default and silence this warning we advise to pass `rcond=None`, to keep using the old, explicitly pass `rcond=-1`.\n",
      "  theta, residuals, rank, s = numpy.linalg.lstsq(X,y)\n"
     ]
    }
   ],
   "source": [
    "theta, residuals, rank, s = numpy.linalg.lstsq(X,y)\n",
    "print(theta)"
   ]
  },
  {
   "cell_type": "markdown",
   "metadata": {},
   "source": [
    "## Extrayendo características de autoregresión\n",
    "La autoregresión se utiliza para valores donde está presente un intervalo de tiempo en el eje X (variable independiente)  "
   ]
  },
  {
   "cell_type": "code",
   "execution_count": 29,
   "metadata": {},
   "outputs": [],
   "source": [
    "def getFeatureAR(dataset, ind, windowSize):\n",
    "    feat = [1]\n",
    "    # dataset[ind - windowSize: ind] -> Vector de las observaciones previas\n",
    "    previousValues = [float(d[5]) for d in dataset[ind - windowSize: ind]]\n",
    "    \n",
    "    return feat + previousValues\n",
    "\n",
    "windowSize = 10\n",
    "N = len(dataset)"
   ]
  },
  {
   "cell_type": "markdown",
   "metadata": {},
   "source": [
    "Se obtienen conjntos de observaciones de 10 elementos (sin contar la ordenada al origen)"
   ]
  },
  {
   "cell_type": "code",
   "execution_count": 42,
   "metadata": {},
   "outputs": [
    {
     "data": {
      "text/plain": [
       "[[1, 129.0, 148.0, 159.0, 181.0, 138.0, 109.0, 105.0, 124.0, 120.0, 132.0],\n",
       " [1, 148.0, 159.0, 181.0, 138.0, 109.0, 105.0, 124.0, 120.0, 132.0, 140.0],\n",
       " [1, 159.0, 181.0, 138.0, 109.0, 105.0, 124.0, 120.0, 132.0, 140.0, 152.0],\n",
       " [1, 181.0, 138.0, 109.0, 105.0, 124.0, 120.0, 132.0, 140.0, 152.0, 148.0],\n",
       " [1, 138.0, 109.0, 105.0, 124.0, 120.0, 132.0, 140.0, 152.0, 148.0, 164.0],\n",
       " [1, 109.0, 105.0, 124.0, 120.0, 132.0, 140.0, 152.0, 148.0, 164.0, 158.0],\n",
       " [1, 105.0, 124.0, 120.0, 132.0, 140.0, 152.0, 148.0, 164.0, 158.0, 154.0],\n",
       " [1, 124.0, 120.0, 132.0, 140.0, 152.0, 148.0, 164.0, 158.0, 154.0, 159.0],\n",
       " [1, 120.0, 132.0, 140.0, 152.0, 148.0, 164.0, 158.0, 154.0, 159.0, 164.0],\n",
       " [1, 132.0, 140.0, 152.0, 148.0, 164.0, 158.0, 154.0, 159.0, 164.0, 170.0]]"
      ]
     },
     "execution_count": 42,
     "metadata": {},
     "output_type": "execute_result"
    }
   ],
   "source": [
    "X = [getFeatureAR(dataset, ind, windowSize) for ind in range(windowSize,N)]\n",
    "# Primeros 10 elementos\n",
    "\n",
    "X[:10]"
   ]
  },
  {
   "cell_type": "markdown",
   "metadata": {},
   "source": [
    "Comenzamos recavando valores después de la decima lectura"
   ]
  },
  {
   "cell_type": "code",
   "execution_count": 27,
   "metadata": {},
   "outputs": [],
   "source": [
    "y = [float(d[5]) for d in dataset[windowSize:]]"
   ]
  },
  {
   "cell_type": "code",
   "execution_count": 28,
   "metadata": {},
   "outputs": [
    {
     "name": "stderr",
     "output_type": "stream",
     "text": [
      "<ipython-input-28-d76bec25dcff>:1: FutureWarning: `rcond` parameter will change to the default of machine precision times ``max(M, N)`` where M and N are the input matrix dimensions.\n",
      "To use the future default and silence this warning we advise to pass `rcond=None`, to keep using the old, explicitly pass `rcond=-1`.\n",
      "  theta, residuals, rank, s = numpy.linalg.lstsq(X,y)\n"
     ]
    },
    {
     "data": {
      "text/plain": [
       "array([ 3.92354307,  0.01296079,  0.00414674, -0.00925187,  0.00794837,\n",
       "       -0.01458271, -0.0164066 ,  0.00626613,  0.04355583, -0.22994129,\n",
       "        1.15548897])"
      ]
     },
     "execution_count": 28,
     "metadata": {},
     "output_type": "execute_result"
    }
   ],
   "source": [
    "theta, residuals, rank, s = numpy.linalg.lstsq(X,y)\n",
    "theta"
   ]
  },
  {
   "cell_type": "markdown",
   "metadata": {},
   "source": [
    "### Múltiples características"
   ]
  },
  {
   "cell_type": "code",
   "execution_count": 84,
   "metadata": {},
   "outputs": [],
   "source": [
    "def multipleFeatureAR(dataset, ind, windowSize):\n",
    "    feat = [1, float(dataset[ind][7]), float(dataset[ind][8]), float(dataset[ind][10])]\n",
    "    previousValues = [float(d[5]) for d in dataset[ind - windowSize: ind]]\n",
    "    \n",
    "    return feat + previousValues"
   ]
  },
  {
   "cell_type": "code",
   "execution_count": 85,
   "metadata": {},
   "outputs": [],
   "source": [
    "X = [multipleFeatureAR(dataset, ind, windowSize) for ind in range(windowSize,N)]\n",
    "y = [float(d[5]) for d in dataset[windowSize:]]"
   ]
  },
  {
   "cell_type": "code",
   "execution_count": 86,
   "metadata": {},
   "outputs": [
    {
     "name": "stderr",
     "output_type": "stream",
     "text": [
      "<ipython-input-86-d76bec25dcff>:1: FutureWarning: `rcond` parameter will change to the default of machine precision times ``max(M, N)`` where M and N are the input matrix dimensions.\n",
      "To use the future default and silence this warning we advise to pass `rcond=None`, to keep using the old, explicitly pass `rcond=-1`.\n",
      "  theta, residuals, rank, s = numpy.linalg.lstsq(X,y)\n"
     ]
    },
    {
     "data": {
      "text/plain": [
       "array([ 1.66261451e+02, -1.71855736e-01, -1.56441424e-01, -2.50471317e-02,\n",
       "        1.50765140e-02,  3.66638827e-03, -9.37757357e-03,  7.43748773e-03,\n",
       "       -1.50878276e-02, -1.67895315e-02,  5.71176519e-03,  4.27640539e-02,\n",
       "       -2.29558932e-01,  1.15031328e+00])"
      ]
     },
     "execution_count": 86,
     "metadata": {},
     "output_type": "execute_result"
    }
   ],
   "source": [
    "theta, residuals, rank, s = numpy.linalg.lstsq(X,y)\n",
    "theta"
   ]
  },
  {
   "cell_type": "markdown",
   "metadata": {},
   "source": [
    "## Valores faltantes"
   ]
  },
  {
   "cell_type": "markdown",
   "metadata": {},
   "source": [
    "### Missing data inputation  \n",
    "Busca reemplazar los valores faltantes por estimaciones razonables.  \n",
    "1. Una opción razonable sería reemplazar esos valores por el valor promedio  \n",
    "    1.1. Esta opción puede presentar errores si hay valores mínimos o máximos muy alejados  \n",
    "2. Se puede utilizar la mediana en lugar del promedio  \n",
    "    2.1. No apto para variables categóricas  \n",
    "3. Inputación en el nivel de subgrupos individuales (tomar otras características)\n",
    "4. Uso de predictores"
   ]
  },
  {
   "cell_type": "markdown",
   "metadata": {},
   "source": [
    "### Modelar valores faltantes\n",
    "Se agrega una característica adicional indicando que falta una característica "
   ]
  },
  {
   "cell_type": "code",
   "execution_count": null,
   "metadata": {},
   "outputs": [],
   "source": []
  },
  {
   "cell_type": "code",
   "execution_count": null,
   "metadata": {},
   "outputs": [],
   "source": []
  },
  {
   "cell_type": "code",
   "execution_count": null,
   "metadata": {},
   "outputs": [],
   "source": []
  }
 ],
 "metadata": {
  "kernelspec": {
   "display_name": "Python 3",
   "language": "python",
   "name": "python3"
  },
  "language_info": {
   "codemirror_mode": {
    "name": "ipython",
    "version": 3
   },
   "file_extension": ".py",
   "mimetype": "text/x-python",
   "name": "python",
   "nbconvert_exporter": "python",
   "pygments_lexer": "ipython3",
   "version": "3.8.5"
  }
 },
 "nbformat": 4,
 "nbformat_minor": 4
}
